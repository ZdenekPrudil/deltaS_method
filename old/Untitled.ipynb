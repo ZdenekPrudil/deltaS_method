{
 "cells": [
  {
   "cell_type": "code",
   "execution_count": 1,
   "id": "3c974e9c",
   "metadata": {},
   "outputs": [],
   "source": [
    "from astropy.table import Column\n",
    "import numpy as np\n"
   ]
  },
  {
   "cell_type": "code",
   "execution_count": 2,
   "id": "7f2d9bab",
   "metadata": {},
   "outputs": [],
   "source": [
    "c = Column([1, 2, 3, 4, 5, 6], name='a')"
   ]
  },
  {
   "cell_type": "code",
   "execution_count": 4,
   "id": "e06d9b49",
   "metadata": {},
   "outputs": [
    {
     "data": {
      "text/plain": [
       "array([1, 2, 3, 4, 5, 6])"
      ]
     },
     "execution_count": 4,
     "metadata": {},
     "output_type": "execute_result"
    }
   ],
   "source": [
    "c.data"
   ]
  },
  {
   "cell_type": "code",
   "execution_count": null,
   "id": "077d92a9",
   "metadata": {},
   "outputs": [],
   "source": [
    "zdenek.prudil@eso.org"
   ]
  }
 ],
 "metadata": {
  "kernelspec": {
   "display_name": "Python 3 (ipykernel)",
   "language": "python",
   "name": "python3"
  },
  "language_info": {
   "codemirror_mode": {
    "name": "ipython",
    "version": 3
   },
   "file_extension": ".py",
   "mimetype": "text/x-python",
   "name": "python",
   "nbconvert_exporter": "python",
   "pygments_lexer": "ipython3",
   "version": "3.11.3"
  }
 },
 "nbformat": 4,
 "nbformat_minor": 5
}
