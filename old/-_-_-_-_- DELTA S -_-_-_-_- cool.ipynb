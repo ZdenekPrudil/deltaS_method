{
 "cells": [
  {
   "cell_type": "code",
   "execution_count": 1,
   "metadata": {
    "ExecuteTime": {
     "end_time": "2021-10-19T14:48:18.171762Z",
     "start_time": "2021-10-19T14:48:17.776913Z"
    }
   },
   "outputs": [],
   "source": [
    "import numpy as np\n",
    "import matplotlib.pyplot as plt\n",
    "import matplotlib as mpl\n",
    "import glob\n",
    "\n",
    "from tqdm import tqdm\n",
    "from numpy.linalg import inv\n",
    "from scipy.interpolate import InterpolatedUnivariateSpline"
   ]
  },
  {
   "cell_type": "code",
   "execution_count": 2,
   "metadata": {
    "ExecuteTime": {
     "end_time": "2021-10-19T14:48:18.179309Z",
     "start_time": "2021-10-19T14:48:18.173276Z"
    },
    "code_folding": []
   },
   "outputs": [
    {
     "name": "stderr",
     "output_type": "stream",
     "text": [
      "/home/zdenek/anaconda3/lib/python3.7/_collections_abc.py:841: MatplotlibDeprecationWarning: Support for setting the 'text.latex.preamble' or 'pgf.preamble' rcParam to a list of strings is deprecated since 3.3 and will be removed two minor releases later; set it to a single string instead.\n",
      "  self[key] = other[key]\n"
     ]
    }
   ],
   "source": [
    "pgf_with_latex = {\n",
    "    \"pgf.texsystem\": \"pdflatex\",\n",
    "    \"text.usetex\": True,\n",
    "    \"font.family\": \"serif\",\n",
    "    \"font.serif\": [],\n",
    "    \"font.sans-serif\": [],\n",
    "    \"font.monospace\": [],\n",
    "    \"axes.labelsize\": 20,\n",
    "    \"font.size\": 20,\n",
    "    \"legend.fontsize\": 17,\n",
    "    \"xtick.labelsize\": 17,\n",
    "    \"ytick.labelsize\": 17,\n",
    "    \"pgf.preamble\": [\n",
    "        r\"\\usepackage[utf8x]{inputenc}\",\n",
    "        r\"\\usepackage[T1]{fontenc}\",\n",
    "        ]\n",
    "    }\n",
    "mpl.rcParams.update(pgf_with_latex)\n",
    "\n",
    "\n",
    "def savefig(filename):\n",
    "    plt.savefig('{}.png'.format(filename), bbox_inches='tight')\n",
    "\n",
    "def savefig_pdf(filename):\n",
    "    plt.savefig('{}.pdf'.format(filename), bbox_inches='tight')"
   ]
  },
  {
   "cell_type": "markdown",
   "metadata": {
    "ExecuteTime": {
     "end_time": "2021-03-24T14:02:33.084722Z",
     "start_time": "2021-03-24T14:02:33.074119Z"
    }
   },
   "source": [
    "<img src=\"boundaries.png\">"
   ]
  },
  {
   "cell_type": "code",
   "execution_count": 3,
   "metadata": {
    "ExecuteTime": {
     "end_time": "2021-10-19T14:48:18.776865Z",
     "start_time": "2021-10-19T14:48:18.752757Z"
    },
    "code_folding": [
     11,
     98,
     221
    ]
   },
   "outputs": [],
   "source": [
    "###########################################################################\n",
    "######################## Crestani+2021 boundaries #########################\n",
    "###########################################################################\n",
    "ca_slice = np.array([3910.00, 3925.00, 3940.00, 3955.00, 3923.67, 3943.67])\n",
    "hd_slice = np.array([4010.00, 4060.00, 4145.00, 4195.00, 4091.74, 4111.74])\n",
    "hg_slice = np.array([4230.00, 4280.00, 4400.00, 4450.00, 4330.47, 4350.47])\n",
    "hb_slice = np.array([4750.00, 4800.00, 4920.00, 4970.00, 4851.33, 4871.33])\n",
    "###########################################################################\n",
    "\n",
    "lines_centers = np.array([3933.66, 4101.75, 4340.47, 4861.34])\n",
    "\n",
    "\n",
    "\n",
    "###########################################################################################################\n",
    "###########################################################################################################\n",
    "\n",
    "def get_shift_wave(wave, flux, eflux, deg):\n",
    "    \"\"\" Centering line \"\"\"\n",
    "    x_fit = np.linspace(min(wave), max(wave), 1000)\n",
    "    \n",
    "    b_fit = np.polyfit(wave, flux, \n",
    "                       w=eflux**-2, deg=4)\n",
    "    \n",
    "    wave_off = x_fit[np.argmin(np.polyval(b_fit, x_fit))]\n",
    "    \n",
    "    \n",
    "    slicer_shift = np.where(abs(lines_centers - wave_off) == min(abs(lines_centers - wave_off)))\n",
    "    \n",
    "    wave_shift = lines_centers[slicer_shift] - wave_off\n",
    "    \n",
    "    return wave_shift\n",
    "\n",
    "\n",
    "###########################################################################################################\n",
    "###########################################################################################################\n",
    "\n",
    "def get_it_done(wave, flux, eflux, flux_orig, slicing, \n",
    "                line=\"\", plott=False, name_fig=\"\"):\n",
    "    \n",
    "    \"\"\"Implementation of the deltaS method.\n",
    "\n",
    "    Parameters\n",
    "    ----------\n",
    "    wave : 'array_like, shape (N, )'\n",
    "        Wavelenght in angstroms \n",
    "    flux : 'array_like, shape (N, )'\n",
    "        Flux in any given unit\n",
    "    eflux : 'array_like, shape (N, )'\n",
    "        Uncertainties on flux\n",
    "    flux_orig : 'array_like, shape (N, )'\n",
    "        Original flux in any given unit\n",
    "    slicing : 'array_like, shape (N, )'\n",
    "        List of wavelenght regions\n",
    "    line : 'str'\n",
    "        Name of the spectral line\n",
    "    name_fig : 'str'\n",
    "        Name of the figure\n",
    "        \n",
    "    Returns:\n",
    "    ------- \n",
    "    area_under_line : 'float'\n",
    "        Integrated area under spline\n",
    "    snr : 'float'\n",
    "        Signal-to-noise ratio\n",
    "    \"\"\"     \n",
    "    \n",
    "    slice_for_center = np.where((wave > slicing[4]) & (wave < slicing[5]))\n",
    "    \n",
    "     \n",
    "    wave_shift = get_shift_wave(wave[slice_for_center], \n",
    "                                flux_orig[slice_for_center], \n",
    "                                eflux[slice_for_center], deg=4)   \n",
    "    wave += wave_shift[0]\n",
    "    \n",
    "    \n",
    "    con_slicer = np.where(((wave > slicing[0]) & (wave < slicing[1])) \n",
    "                          | ((wave > slicing[2]) & (wave < slicing[3])))\n",
    "\n",
    "    \n",
    "    blue, red = slicing[4], slicing[5]\n",
    "    p = np.polyfit(wave[con_slicer], flux[con_slicer], deg=1, w=eflux[con_slicer]**-2)\n",
    "\n",
    "    \n",
    "    conti_flux = 1 + (flux - np.polyval(p, wave)) / np.polyval(p, wave)\n",
    "    conti_err = (1 + (flux + eflux - np.polyval(p, wave)) / np.polyval(p, wave)) - conti_flux\n",
    "\n",
    "    flux_flip = -1*conti_flux + 1\n",
    "    \n",
    "    snr = 1./np.std(flux_flip[con_slicer])\n",
    "\n",
    "    flux_flip[flux_flip < 0] = 0.\n",
    "    f = InterpolatedUnivariateSpline(wave, \n",
    "                                     flux_flip, \n",
    "                                     w=conti_err**-2, k=1)\n",
    "\n",
    "    if plott: plot_image(wave, flux, conti_flux, p, slicing, f, conti_err, line, name_fig)\n",
    "    \n",
    "    area_under_line = f.integral(blue, red)\n",
    "    \n",
    "    return (area_under_line, snr)\n",
    "\n",
    "###########################################################################################################\n",
    "###########################################################################################################\n",
    "\n",
    "def plot_image(wave, flux, conti_flux, p, slicing, f, conti_err, line, name_fig):\n",
    "    \"\"\"Just figure, don't overthink it...\n",
    "    \"\"\" \n",
    "    \n",
    "       \n",
    "    fig, ax = plt.subplots(figsize=(7.,10.), nrows=2, ncols=1) \n",
    "\n",
    "    ax[0].plot(wave, flux, c=\"k\", label=\"Spectrum\")\n",
    "    ax[0].plot(wave, np.polyval(p, wave), c=\"C3\", ls=\":\", label=\"Linear fit\")\n",
    "    ax[0].axvspan(slicing[0], slicing[1], facecolor=\"C2\", alpha=0.15, \n",
    "                  hatch='\\/', edgecolor=\"C2\", label=\"Continuum region\")\n",
    "    ax[0].axvspan(slicing[2], slicing[3], facecolor=\"C2\", alpha=0.15, hatch='\\/', edgecolor=\"C2\")\n",
    "    \n",
    "    ax[0].annotate(r'%s' %(line), \n",
    "             xytext=(np.percentile(slicing, 46), np.average(flux)+np.std(flux)),\n",
    "             xycoords='data',\n",
    "             textcoords='data',\n",
    "             xy=(np.percentile(slicing, 46), np.average(flux)+np.std(flux)),\n",
    "             fontsize=22, color=\"k\") \n",
    "    \n",
    "    ax[0].set_ylabel(r\"Flux\\,[10$^{-17}$ erg/cm$^2$/s/$\\mathrm{\\AA}$]\")\n",
    "    ax[0].minorticks_on()\n",
    "    plt.setp(ax[0].get_xticklabels(), visible=False)\n",
    "    \n",
    "    ######################################################################\n",
    "    \n",
    "    ax[1].plot(wave, conti_flux, c=\"k\")\n",
    "    ax[1].scatter(wave, conti_flux, c=\"k\", marker=\".\", zorder=-10) #, rasterized=True\n",
    "    ax[1].errorbar(wave, conti_flux, yerr=conti_err, c=\"k\", marker=\".\", zorder=-10, alpha=0.3)\n",
    "    ax[1].axhline(1., c=\"C3\", ls=\"-\", zorder=-10, label=\"Continuum\")\n",
    "\n",
    "    xs = np.linspace(slicing[4], slicing[5], 1000)\n",
    "    ax[1].plot(xs, f(xs)*(-1)+1, 'C0', lw=3, alpha=0.7)\n",
    "    ax[1].fill_between(xs, 1, f(xs)*(-1)+1, color=\"C0\", alpha=0.2, label=\"Pseudo EW\")#, rasterized=True\n",
    "    \n",
    "    ax[1].set_xlabel(r\"Wavelength\\,[$\\mathrm{\\AA}$]\")\n",
    "    ax[1].set_ylabel(r\"Normalized flux\")\n",
    "    ax[1].minorticks_on()\n",
    "\n",
    "    ######################################################################\n",
    "    \n",
    "    fig.legend(bbox_to_anchor=(0.85, 1.12), ncol=2)\n",
    "    fig.tight_layout()\n",
    "    \n",
    "    savefig_pdf(\"figures/\"+name_fig)\n",
    "    plt.close()\n"
   ]
  },
  {
   "cell_type": "code",
   "execution_count": 6,
   "metadata": {
    "ExecuteTime": {
     "end_time": "2021-10-19T14:49:03.110687Z",
     "start_time": "2021-10-19T14:49:03.100656Z"
    }
   },
   "outputs": [],
   "source": [
    "names = glob.glob(\"ForDeltaS/*.txt\")\n",
    "\n",
    "def open_file(nam):\n",
    "    data = np.genfromtxt(nam, dtype=float, skip_header=0)\n",
    "    wave = data[:,0]\n",
    "    flux = data[:,1]\n",
    "    eflux = data[:,2]\n",
    "    \n",
    "    slice_bad = np.where(eflux/flux < 10.)\n",
    "    \n",
    "    return wave[slice_bad], flux[slice_bad], eflux[slice_bad]"
   ]
  },
  {
   "cell_type": "code",
   "execution_count": 7,
   "metadata": {
    "ExecuteTime": {
     "end_time": "2021-10-19T14:49:19.511998Z",
     "start_time": "2021-10-19T14:49:03.531303Z"
    }
   },
   "outputs": [
    {
     "name": "stderr",
     "output_type": "stream",
     "text": [
      "100%|██████████| 13/13 [00:15<00:00,  1.23s/it]\n"
     ]
    }
   ],
   "source": [
    "rep_names = [names[i].replace(\"ForDeltaS/\", \"\") \n",
    "             for i in range(len(names))]\n",
    "\n",
    "soubor = open(\"CheckPEW2.dat\", \"w\")\n",
    "# print(\"#ID Ca eCa snr_ca Hd eHd snr_hd Hg eHg snr_hg Hb eHb snr_hb\\n\")\n",
    "soubor.write(\"#ID Ca eCa snr_ca Hd eHd snr_hd Hg eHg snr_hg Hb eHb snr_hb\\n\")\n",
    "\n",
    "\n",
    "for j in tqdm(range(len(rep_names))):\n",
    "    wave, flux, eflux = open_file(names[j])\n",
    "    \n",
    "    #### Selecting portions of the spectra to get important sections ####\n",
    "    ca_whole = np.where((wave > min(ca_slice)) & (wave < max(ca_slice)))#\n",
    "    hd_whole = np.where((wave > min(hd_slice)) & (wave < max(hd_slice)))#\n",
    "    hg_whole = np.where((wave > min(hg_slice)) & (wave < max(hg_slice)))#\n",
    "    hb_whole = np.where((wave > min(hb_slice)) & (wave < max(hb_slice)))#\n",
    "    #####################################################################\n",
    "    \n",
    "    #print(names[j])\n",
    "    num_it = 500\n",
    "    ew_ca, ew_hd, ew_hg, ew_hb = np.zeros(num_it), np.zeros(num_it), np.zeros(num_it), np.zeros(num_it)\n",
    "    snr_ca, snr_hd, snr_hg, snr_hb = np.zeros(num_it), np.zeros(num_it), np.zeros(num_it), np.zeros(num_it)\n",
    "    \n",
    "    for i in range(num_it):\n",
    "\n",
    "        flux_r = np.random.normal(flux, eflux)\n",
    "\n",
    "        ew_ca[i], snr_ca[i] = get_it_done(wave[ca_whole], flux_r[ca_whole],\n",
    "                                               eflux[ca_whole], flux[ca_whole], ca_slice)  \n",
    "        \n",
    "        ew_hd[i], snr_hd[i] = get_it_done(wave[hd_whole], flux_r[hd_whole],\n",
    "                                               eflux[hd_whole], flux[hd_whole], hd_slice)\n",
    "        \n",
    "        ew_hg[i], snr_hg[i] = get_it_done(wave[hg_whole], flux_r[hg_whole],\n",
    "                                               eflux[hg_whole], flux[hg_whole], hg_slice)\n",
    "        \n",
    "        ew_hb[i], snr_hb[i] = get_it_done(wave[hb_whole], flux_r[hb_whole],\n",
    "                                               eflux[hb_whole], flux[hb_whole], hb_slice)\n",
    "    \n",
    "    rad = \"%s %.3f %.3f %.3f %.3f %.3f %.3f %.3f %.3f %.3f %.3f %.3f %.3f\\n\" %(rep_names[j], \n",
    "                                                                               np.nanmean(ew_ca), \n",
    "                                                                               np.nanstd(ew_ca), \n",
    "                                                                               np.median(snr_ca), \n",
    "                                                                               np.nanmean(ew_hd), \n",
    "                                                                               np.nanstd(ew_hd), \n",
    "                                                                               np.median(snr_hd), \n",
    "                                                                               np.nanmean(ew_hg), \n",
    "                                                                               np.nanstd(ew_hg), \n",
    "                                                                               np.median(snr_hg), \n",
    "                                                                               np.nanmean(ew_hb), \n",
    "                                                                               np.nanstd(ew_hb), \n",
    "                                                                               np.median(snr_hb))\n",
    "\n",
    "    soubor.write(rad)\n",
    "soubor.close()"
   ]
  },
  {
   "cell_type": "code",
   "execution_count": null,
   "metadata": {
    "ExecuteTime": {
     "end_time": "2021-03-22T21:08:41.236232Z",
     "start_time": "2021-03-22T21:08:41.229250Z"
    }
   },
   "outputs": [],
   "source": []
  },
  {
   "cell_type": "code",
   "execution_count": null,
   "metadata": {
    "ExecuteTime": {
     "end_time": "2021-03-22T20:44:34.871607Z",
     "start_time": "2021-03-22T20:44:33.129505Z"
    }
   },
   "outputs": [],
   "source": []
  }
 ],
 "metadata": {
  "kernelspec": {
   "display_name": "Python 3",
   "language": "python",
   "name": "python3"
  },
  "language_info": {
   "codemirror_mode": {
    "name": "ipython",
    "version": 3
   },
   "file_extension": ".py",
   "mimetype": "text/x-python",
   "name": "python",
   "nbconvert_exporter": "python",
   "pygments_lexer": "ipython3",
   "version": "3.7.3"
  }
 },
 "nbformat": 4,
 "nbformat_minor": 2
}
