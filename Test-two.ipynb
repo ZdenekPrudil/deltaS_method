{
 "cells": [
  {
   "cell_type": "code",
   "execution_count": 5,
   "id": "c655dda4",
   "metadata": {
    "ExecuteTime": {
     "end_time": "2024-07-31T20:38:06.172677Z",
     "start_time": "2024-07-31T20:38:06.166760Z"
    }
   },
   "outputs": [],
   "source": [
    "import numpy as np"
   ]
  },
  {
   "cell_type": "code",
   "execution_count": 6,
   "id": "0e999b78",
   "metadata": {
    "ExecuteTime": {
     "end_time": "2024-07-31T20:38:09.769685Z",
     "start_time": "2024-07-31T20:38:09.749087Z"
    }
   },
   "outputs": [],
   "source": [
    "import os"
   ]
  },
  {
   "cell_type": "code",
   "execution_count": null,
   "id": "b2b9c199",
   "metadata": {},
   "outputs": [],
   "source": []
  },
  {
   "cell_type": "code",
   "execution_count": null,
   "id": "4c82750e",
   "metadata": {},
   "outputs": [],
   "source": []
  }
 ],
 "metadata": {
  "kernelspec": {
   "display_name": "Python 3 (ipykernel)",
   "language": "python",
   "name": "python3"
  },
  "language_info": {
   "codemirror_mode": {
    "name": "ipython",
    "version": 3
   },
   "file_extension": ".py",
   "mimetype": "text/x-python",
   "name": "python",
   "nbconvert_exporter": "python",
   "pygments_lexer": "ipython3",
   "version": "3.11.7"
  }
 },
 "nbformat": 4,
 "nbformat_minor": 5
}
